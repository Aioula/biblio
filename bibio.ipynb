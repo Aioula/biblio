{
 "cells": [
  {
   "cell_type": "code",
   "execution_count": null,
   "metadata": {},
   "outputs": [],
   "source": [
    "class Livre:\n",
    "    def __init__(self, num, tit, aut, pub):\n",
    "        self.Num = num\n",
    "        self.Tit = tit\n",
    "        self.Aut = aut\n",
    "        self.Pub = pub"
   ]
  },
  {
   "cell_type": "code",
   "execution_count": null,
   "metadata": {},
   "outputs": [],
   "source": [
    "n=int(input('enter number of book'))\n",
    "Biblio = []\n",
    "for i in range (n):\n",
    "    num = int(input(\"Enter book number: \"))\n",
    "    tit = input(\"Enter book title: \")\n",
    "    aut = input(\"Enter author name: \")\n",
    "    pub = int(input(\"Enter publication year: \"))\n",
    "\n",
    "    livre = Livre(num, tit, aut, pub)\n",
    "    Biblio.append(livre)"
   ]
  },
  {
   "cell_type": "code",
   "execution_count": null,
   "metadata": {},
   "outputs": [],
   "source": [
    "delete_num = int(input(\"Enter the book number to delete: \"))\n",
    "deleted = False\n",
    "\n",
    "for livre in Biblio:\n",
    "    if livre.Num == delete_num:\n",
    "        Biblio.remove(livre)\n",
    "        deleted = True\n",
    "        break"
   ]
  },
  {
   "cell_type": "code",
   "execution_count": null,
   "metadata": {},
   "outputs": [],
   "source": [
    "update_num = int(input(\"Enter the book number to update the title: \"))\n",
    "new_tit = input(\"Enter the new book title: \")\n",
    "updated = False\n",
    "\n",
    "for livre in Biblio:\n",
    "    if livre.Num == update_num:\n",
    "        livre.Tit = new_tit\n",
    "        updated = True\n",
    "        break\n"
   ]
  }
 ],
 "metadata": {
  "kernelspec": {
   "display_name": "Python 3",
   "language": "python",
   "name": "python3"
  },
  "language_info": {
   "codemirror_mode": {
    "name": "ipython",
    "version": 3
   },
   "file_extension": ".py",
   "mimetype": "text/x-python",
   "name": "python",
   "nbconvert_exporter": "python",
   "pygments_lexer": "ipython3",
   "version": "3.7.6"
  }
 },
 "nbformat": 4,
 "nbformat_minor": 4
}
